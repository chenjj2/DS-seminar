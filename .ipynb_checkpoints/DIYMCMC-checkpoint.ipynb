{
 "metadata": {
  "name": "",
  "signature": "sha256:df7a2b4f8fdba893052fef4c6ee95d52c1015d124e55cd711f960c3310621507"
 },
 "nbformat": 3,
 "nbformat_minor": 0,
 "worksheets": [
  {
   "cells": [
    {
     "cell_type": "code",
     "collapsed": false,
     "input": [
      "import numpy as np\n",
      "import matplotlib.pyplot as plt\n",
      "%matplotlib inline\n",
      "\n",
      "import diymcmc"
     ],
     "language": "python",
     "metadata": {},
     "outputs": [],
     "prompt_number": 92
    },
    {
     "cell_type": "markdown",
     "metadata": {},
     "source": [
      "We've written a convenience function to grab the test data:"
     ]
    },
    {
     "cell_type": "code",
     "collapsed": false,
     "input": [
      "x,y,sigma_y = diymcmc.get_data1()"
     ],
     "language": "python",
     "metadata": {},
     "outputs": [],
     "prompt_number": 93
    },
    {
     "cell_type": "markdown",
     "metadata": {},
     "source": [
      "Start by plotting the data -- just make an `errorbar()` plot with the provided data."
     ]
    },
    {
     "cell_type": "code",
     "collapsed": false,
     "input": [
      "# MAKE PLOT\n",
      "plt.figure()\n",
      "plt.errorbar(x=x, y=y, yerr=sigma_y, fmt='o')\n",
      "#plt.figure()\n",
      "#plt.hist(sigma_y)"
     ],
     "language": "python",
     "metadata": {},
     "outputs": [
      {
       "metadata": {},
       "output_type": "pyout",
       "prompt_number": 94,
       "text": [
        "<Container object of 3 artists>"
       ]
      },
      {
       "metadata": {},
       "output_type": "display_data",
       "png": "[encoded data removed]",
       "text": [
        "<matplotlib.figure.Figure at 0x108550510>"
       ]
      }
     ],
     "prompt_number": 94
    },
    {
     "cell_type": "markdown",
     "metadata": {},
     "source": [
      "What model should we use for the data? Why? Create a function to evaluate this model for a given choice of parameters and `x` data:"
     ]
    },
    {
     "cell_type": "code",
     "collapsed": false,
     "input": [
      "def model(pars, x):\n",
      "    # b*log(a*x)\n",
      "    a, b =pars\n",
      "    y = b*np.log10(a*x)\n",
      "    # the `pars` argument is a list of parameter values, e.g., pars = [m, b] for a line\n",
      "    return y"
     ],
     "language": "python",
     "metadata": {},
     "outputs": [],
     "prompt_number": 95
    },
    {
     "cell_type": "markdown",
     "metadata": {},
     "source": [
      "---\n",
      "\n",
      "We'll start with the assumption that the data are independent and identically distributed so that the likelihood is simply a product of Gaussians (one big Gaussian). We'll also assume that the uncertainties reported are correct, and that there are no uncertainties on the `x` data. We need to define a function that will evaluate the (ln)likelihood of the data, given a particular choice of your model parameters. A good way to structure this function is as follows:"
     ]
    },
    {
     "cell_type": "code",
     "collapsed": false,
     "input": [
      "def ln_likelihood(pars, x, y, y_unc):\n",
      "    y_model = model(pars, x)\n",
      "    sum_term = 2*np.log(y_unc) + (y-y_model)**2./2./(y_unc**2.)\n",
      "    # we will pass the parameters (pars) to the model function\n",
      "    # the other arguments are the data\n",
      "    return -0.5*(len(x)*np.log(2*np.pi)+np.sum(sum_term)) "
     ],
     "language": "python",
     "metadata": {},
     "outputs": [],
     "prompt_number": 96
    },
    {
     "cell_type": "markdown",
     "metadata": {},
     "source": [
      "What about priors? Remember your prior only depends on the model parameters, but be careful about what kind of prior you are specifying for each parameter. Do we need to properly normalize the probabilities?"
     ]
    },
    {
     "cell_type": "code",
     "collapsed": false,
     "input": [
      "def ln_prior(pars):\n",
      "    a,b = pars\n",
      "    p = 0.\n",
      "    \n",
      "    a_range = [1e-3, 1e3]\n",
      "    if a<=0:\n",
      "        return -np.inf\n",
      "    else:\n",
      "        p += -np.log(a_range[1]-a_range[0])\n",
      "    b_range = [1e-3, 1e3]\n",
      "    if b<=0:\n",
      "        return -np.inf\n",
      "    else:\n",
      "        p += -np.log(b_range[1]-b_range[0])\n",
      "        \n",
      "    return 0."
     ],
     "language": "python",
     "metadata": {},
     "outputs": [],
     "prompt_number": 97
    },
    {
     "cell_type": "markdown",
     "metadata": {},
     "source": [
      "Now we can define a function that evaluates the (ln)posterior probability, which is just the sum of the ln prior and ln likelihood:"
     ]
    },
    {
     "cell_type": "code",
     "collapsed": false,
     "input": [
      "def ln_posterior(pars, x, y, y_unc):\n",
      "    return ln_prior(pars) + ln_likelihood(pars, x, y, y_unc)"
     ],
     "language": "python",
     "metadata": {},
     "outputs": [],
     "prompt_number": 98
    },
    {
     "cell_type": "markdown",
     "metadata": {},
     "source": [
      "Now write a function to actually run a Metropolis-Hastings MCMC sampler. Ford (2005) includes a great step-by-step walkthrough of the Metropolis-Hastings algorithm, and we'll base our code on that"
     ]
    },
    {
     "cell_type": "code",
     "collapsed": false,
     "input": [
      "def run_mcmc(ln_posterior, nsteps, ndim, p0, stepsize, x,y,sigma_y):\n",
      "    \n",
      "    \n",
      "    # Set up the chain, and initialize it\n",
      "    # (need an array holding the positions at each step\n",
      "    chain = np.zeros((nsteps, ndim))\n",
      "    chain[0,:]=p0\n",
      "    # Set up an array to hold the probabilities at each step\n",
      "    prob = np.zeros(nsteps)\n",
      "    # Calculate the probability for the first step\n",
      "    prob[0] = ln_posterior( p0, x, y, sigma_y )\n",
      "    \n",
      "    # Loop for nsteps\n",
      "    for i in np.arange(0,nsteps-1):\n",
      "        # Randomly choose new model parameters for the trial state\n",
      "        par_new = np.random.normal(p0[0],stepsize), np.random.normal(p0[1],stepsize)\n",
      "        # Calculate the probability for the new state\n",
      "        prob_new = ln_posterior(par_new, x,y,sigma_y)\n",
      "        # Compare it to the probability of the old state\n",
      "        # Using the acceptance probability function\n",
      "        p_accept = prob_new/prob[i]\n",
      "        # Chose a random number u between 0 and 1 to compare with p_accept\n",
      "        u = np.random.uniform(0,1)\n",
      "        # If p_accept>1 or p_accept>u, accept the step\n",
      "        if p_accept>1 or p_accept>u:\n",
      "            prob[i+1] = prob_new\n",
      "            chain[i+1, :] = par_new\n",
      "        else:\n",
      "            prob[i+1] = prob[i]\n",
      "            chain[i+1, :] = chain[i, :]\n",
      "            # Save the position to the chain\n",
      "            # Save the probability to that array\n",
      "            \n",
      "        # Else, do not accept the step\n",
      "            # Set the position and probability are equal to the last value\n",
      "            \n",
      "    # Return the chain and probabilities\n",
      "    return chain, prob"
     ],
     "language": "python",
     "metadata": {},
     "outputs": [],
     "prompt_number": 99
    },
    {
     "cell_type": "markdown",
     "metadata": {},
     "source": [
      "Now run the MCMC code on the data provided."
     ]
    },
    {
     "cell_type": "code",
     "collapsed": false,
     "input": [
      "# run it!\n",
      "nsteps = 2000\n",
      "ndim = 2\n",
      "p0 = 10**np.random.uniform(-3,3), 10**np.random.uniform(-3,3)\n",
      "stepsize = 1\n",
      "\n",
      "chain,prob = run_mcmc(ln_posterior, nsteps, ndim, p0, stepsize, x,y,sigma_y)\n",
      "print chain[nstep-1], prob[nsteps-1]"
     ],
     "language": "python",
     "metadata": {},
     "outputs": [
      {
       "ename": "IndexError",
       "evalue": "index 2000 is out of bounds for axis 0 with size 2000",
       "output_type": "pyerr",
       "traceback": [
        "\u001b[0;31m---------------------------------------------------------------------------\u001b[0m\n\u001b[0;31mIndexError\u001b[0m                                Traceback (most recent call last)",
        "\u001b[0;32m<ipython-input-100-3439aba2cb44>\u001b[0m in \u001b[0;36m<module>\u001b[0;34m()\u001b[0m\n\u001b[1;32m      5\u001b[0m \u001b[0mstepsize\u001b[0m \u001b[0;34m=\u001b[0m \u001b[0;36m1\u001b[0m\u001b[0;34m\u001b[0m\u001b[0m\n\u001b[1;32m      6\u001b[0m \u001b[0;34m\u001b[0m\u001b[0m\n\u001b[0;32m----> 7\u001b[0;31m \u001b[0mchain\u001b[0m\u001b[0;34m,\u001b[0m\u001b[0mprob\u001b[0m \u001b[0;34m=\u001b[0m \u001b[0mrun_mcmc\u001b[0m\u001b[0;34m(\u001b[0m\u001b[0mln_posterior\u001b[0m\u001b[0;34m,\u001b[0m \u001b[0mnsteps\u001b[0m\u001b[0;34m,\u001b[0m \u001b[0mndim\u001b[0m\u001b[0;34m,\u001b[0m \u001b[0mp0\u001b[0m\u001b[0;34m,\u001b[0m \u001b[0mstepsize\u001b[0m\u001b[0;34m,\u001b[0m \u001b[0mx\u001b[0m\u001b[0;34m,\u001b[0m\u001b[0my\u001b[0m\u001b[0;34m,\u001b[0m\u001b[0msigma_y\u001b[0m\u001b[0;34m)\u001b[0m\u001b[0;34m\u001b[0m\u001b[0m\n\u001b[0m\u001b[1;32m      8\u001b[0m \u001b[0;32mprint\u001b[0m \u001b[0mchain\u001b[0m\u001b[0;34m[\u001b[0m\u001b[0mnstep\u001b[0m\u001b[0;34m-\u001b[0m\u001b[0;36m1\u001b[0m\u001b[0;34m]\u001b[0m\u001b[0;34m,\u001b[0m \u001b[0mprob\u001b[0m\u001b[0;34m[\u001b[0m\u001b[0mnsteps\u001b[0m\u001b[0;34m-\u001b[0m\u001b[0;36m1\u001b[0m\u001b[0;34m]\u001b[0m\u001b[0;34m\u001b[0m\u001b[0m\n",
        "\u001b[0;32m<ipython-input-99-81759fa45911>\u001b[0m in \u001b[0;36mrun_mcmc\u001b[0;34m(ln_posterior, nsteps, ndim, p0, stepsize, x, y, sigma_y)\u001b[0m\n\u001b[1;32m     27\u001b[0m             \u001b[0mchain\u001b[0m\u001b[0;34m[\u001b[0m\u001b[0mi\u001b[0m\u001b[0;34m+\u001b[0m\u001b[0;36m1\u001b[0m\u001b[0;34m,\u001b[0m \u001b[0;34m:\u001b[0m\u001b[0;34m]\u001b[0m \u001b[0;34m=\u001b[0m \u001b[0mpar_new\u001b[0m\u001b[0;34m\u001b[0m\u001b[0m\n\u001b[1;32m     28\u001b[0m         \u001b[0;32melse\u001b[0m\u001b[0;34m:\u001b[0m\u001b[0;34m\u001b[0m\u001b[0m\n\u001b[0;32m---> 29\u001b[0;31m             \u001b[0mprob\u001b[0m\u001b[0;34m[\u001b[0m\u001b[0mi\u001b[0m\u001b[0;34m+\u001b[0m\u001b[0;36m1\u001b[0m\u001b[0;34m]\u001b[0m \u001b[0;34m=\u001b[0m \u001b[0mprob\u001b[0m\u001b[0;34m[\u001b[0m\u001b[0mi\u001b[0m\u001b[0;34m]\u001b[0m\u001b[0;34m\u001b[0m\u001b[0m\n\u001b[0m\u001b[1;32m     30\u001b[0m             \u001b[0mchain\u001b[0m\u001b[0;34m[\u001b[0m\u001b[0mi\u001b[0m\u001b[0;34m+\u001b[0m\u001b[0;36m1\u001b[0m\u001b[0;34m,\u001b[0m \u001b[0;34m:\u001b[0m\u001b[0;34m]\u001b[0m \u001b[0;34m=\u001b[0m \u001b[0mchain\u001b[0m\u001b[0;34m[\u001b[0m\u001b[0mi\u001b[0m\u001b[0;34m,\u001b[0m \u001b[0;34m:\u001b[0m\u001b[0;34m]\u001b[0m\u001b[0;34m\u001b[0m\u001b[0m\n\u001b[1;32m     31\u001b[0m             \u001b[0;31m# Save the position to the chain\u001b[0m\u001b[0;34m\u001b[0m\u001b[0;34m\u001b[0m\u001b[0m\n",
        "\u001b[0;31mIndexError\u001b[0m: index 2000 is out of bounds for axis 0 with size 2000"
       ]
      }
     ],
     "prompt_number": 100
    },
    {
     "cell_type": "markdown",
     "metadata": {},
     "source": [
      "Plot the position of the walker as a function of step number for each of the parameters. Are the chains converged? "
     ]
    },
    {
     "cell_type": "code",
     "collapsed": false,
     "input": [
      "x_axis = np.arange(0,10,0.5)\n",
      "\n",
      "plt.plot(x_axis)"
     ],
     "language": "python",
     "metadata": {},
     "outputs": []
    },
    {
     "cell_type": "markdown",
     "metadata": {},
     "source": [
      "Make histograms of the samples for each parameter. Should you include all of the samples? "
     ]
    },
    {
     "cell_type": "code",
     "collapsed": false,
     "input": [],
     "language": "python",
     "metadata": {},
     "outputs": []
    },
    {
     "cell_type": "markdown",
     "metadata": {},
     "source": [
      "Report to us your constraints on the model parameters -- you have some freedom in interpreting what this means..."
     ]
    },
    {
     "cell_type": "code",
     "collapsed": false,
     "input": [],
     "language": "python",
     "metadata": {},
     "outputs": []
    }
   ],
   "metadata": {}
  }
 ]
}